{
  "cells": [
    {
      "cell_type": "markdown",
      "metadata": {
        "id": "view-in-github",
        "colab_type": "text"
      },
      "source": [
        "<a href=\"https://colab.research.google.com/github/shrishh9/Mental-health-Prediction-and-Chatbot-System/blob/main/Mental_health_prediction_model.ipynb\" target=\"_parent\"><img src=\"https://colab.research.google.com/assets/colab-badge.svg\" alt=\"Open In Colab\"/></a>"
      ]
    },
    {
      "cell_type": "code",
      "execution_count": null,
      "metadata": {
        "id": "1WmwjLYpI1Hp"
      },
      "outputs": [],
      "source": [
        "import pandas as pd\n",
        "import numpy as np\n",
        "import matplotlib.pyplot as plt\n",
        "import seaborn as sns\n",
        "from sklearn.model_selection import train_test_split, GridSearchCV\n",
        "from sklearn.preprocessing import LabelEncoder\n",
        "from sklearn.impute import SimpleImputer\n",
        "from sklearn.metrics import (accuracy_score, precision_score, recall_score,\n",
        "                            f1_score, roc_auc_score, confusion_matrix,\n",
        "                            roc_curve, precision_recall_curve, classification_report)\n",
        "from sklearn.ensemble import RandomForestClassifier, GradientBoostingClassifier\n",
        "from sklearn.linear_model import LogisticRegression\n",
        "import time\n",
        "from tabulate import tabulate"
      ]
    },
    {
      "cell_type": "code",
      "execution_count": null,
      "metadata": {
        "id": "jhNp9YsKI4Gi"
      },
      "outputs": [],
      "source": [
        "df = pd.read_csv('/content/drive/MyDrive/Mental Health Dataset.csv')"
      ]
    },
    {
      "cell_type": "code",
      "execution_count": null,
      "metadata": {
        "id": "0YkjCFxiJNTy"
      },
      "outputs": [],
      "source": [
        "# Drop timestamp column\n",
        "df = df.drop('Timestamp', axis=1)\n",
        "\n",
        "# Store original categorical values for reference\n",
        "original_values = {}\n",
        "categorical_cols = ['Gender', 'Country', 'Occupation', 'self_employed', 'family_history',\n",
        "                   'treatment', 'Days_Indoors', 'Growing_Stress', 'Changes_Habits',\n",
        "                   'Mental_Health_History', 'Mood_Swings', 'Coping_Struggles',\n",
        "                   'Work_Interest', 'Social_Weakness', 'mental_health_interview',\n",
        "                   'care_options']\n",
        "# Create label encoders and store original values\n",
        "label_encoders = {}\n",
        "for col in categorical_cols:\n",
        "    le = LabelEncoder()\n",
        "    df[col] = le.fit_transform(df[col].astype(str))\n",
        "    label_encoders[col] = le\n",
        "    original_values[col] = dict(zip(le.transform(le.classes_), le.classes_))"
      ]
    },
    {
      "cell_type": "code",
      "execution_count": null,
      "metadata": {
        "id": "WEoGT6l-JfR-"
      },
      "outputs": [],
      "source": [
        "# Handle missing values\n",
        "imputer = SimpleImputer(strategy='most_frequent')\n",
        "df = pd.DataFrame(imputer.fit_transform(df), columns=df.columns)\n",
        "\n",
        "# 2. Prepare Data for Modeling\n",
        "X = df.drop('treatment', axis=1)\n",
        "y = df['treatment']\n",
        "\n",
        "# Split data into train and test sets\n",
        "X_train, X_test, y_train, y_test = train_test_split(X, y, test_size=0.2, random_state=42)"
      ]
    },
    {
      "cell_type": "code",
      "execution_count": null,
      "metadata": {
        "colab": {
          "base_uri": "https://localhost:8080/"
        },
        "id": "qacEG2SaJlmZ",
        "outputId": "d8d36735-01f4-4125-c180-1967c89bdb9f"
      },
      "outputs": [
        {
          "name": "stdout",
          "output_type": "stream",
          "text": [
            "\n",
            "Training Random Forest...\n",
            "\n",
            "Training Gradient Boosting...\n",
            "\n",
            "Training Logistic Regression...\n",
            "\n",
            "=== Model Performance Comparison ===\n",
            "+----+---------------------+------------+-------------+----------+------------+-----------+---------------------+-----------------------+\n",
            "|    | Model               |   Accuracy |   Precision |   Recall |   F1 Score |   ROC AUC |   Training Time (s) |   Prediction Time (s) |\n",
            "|----+---------------------+------------+-------------+----------+------------+-----------+---------------------+-----------------------|\n",
            "|  1 | Gradient Boosting   |   0.747764 |    0.736999 | 0.779532 |   0.757669 |  0.81817  |            32.891   |             0.111549  |\n",
            "|  0 | Random Forest       |   0.737571 |    0.727706 | 0.768916 |   0.747744 |  0.793797 |            27.9881  |             2.37558   |\n",
            "|  2 | Logistic Regression |   0.702307 |    0.702506 | 0.71374  |   0.708078 |  0.755731 |             2.57652 |             0.0129993 |\n",
            "+----+---------------------+------------+-------------+----------+------------+-----------+---------------------+-----------------------+\n"
          ]
        }
      ],
      "source": [
        "# 3. Model Comparison - Focus on 3 Models\n",
        "models = {\n",
        "    \"Random Forest\": RandomForestClassifier(random_state=42),\n",
        "    \"Gradient Boosting\": GradientBoostingClassifier(random_state=42),\n",
        "    \"Logistic Regression\": LogisticRegression(max_iter=1000, random_state=42)\n",
        "}\n",
        "\n",
        "results = []\n",
        "\n",
        "for name, model in models.items():\n",
        "    print(f\"\\nTraining {name}...\")\n",
        "    start_time = time.time()\n",
        "    model.fit(X_train, y_train)\n",
        "    train_time = time.time() - start_time\n",
        "\n",
        "    start_time = time.time()\n",
        "    y_pred = model.predict(X_test)\n",
        "    predict_time = time.time() - start_time\n",
        "\n",
        "    y_proba = model.predict_proba(X_test)[:, 1]\n",
        "    results.append({\n",
        "        \"Model\": name,\n",
        "        \"Accuracy\": accuracy_score(y_test, y_pred),\n",
        "        \"Precision\": precision_score(y_test, y_pred),\n",
        "        \"Recall\": recall_score(y_test, y_pred),\n",
        "        \"F1 Score\": f1_score(y_test, y_pred),\n",
        "        \"ROC AUC\": roc_auc_score(y_test, y_proba),\n",
        "        \"Training Time (s)\": train_time,\n",
        "        \"Prediction Time (s)\": predict_time\n",
        "    })\n",
        "\n",
        "results_df = pd.DataFrame(results)\n",
        "\n",
        "# Display results table\n",
        "print(\"\\n=== Model Performance Comparison ===\")\n",
        "print(tabulate(results_df.sort_values(\"F1 Score\", ascending=False), headers='keys', tablefmt='psql'))"
      ]
    },
    {
      "cell_type": "markdown",
      "metadata": {
        "id": "KYaxjN0tp0rj"
      },
      "source": [
        "Gradient Boosting is the best model for mental health prediction due to its high accuracy and ability to handle complex data patterns.\n",
        "\n"
      ]
    },
    {
      "cell_type": "code",
      "execution_count": null,
      "metadata": {
        "colab": {
          "base_uri": "https://localhost:8080/",
          "height": 504
        },
        "id": "25KZzGMXJ27y",
        "outputId": "b1e1e770-efe7-41b7-bb2c-d7508c14f391"
      },
      "outputs": [
        {
          "data": {
            "text/plain": [
              "<Figure size 1200x800 with 0 Axes>"
            ]
          },
          "metadata": {},
          "output_type": "display_data"
        },
        {
          "data": {
            "image/png": "[encoded data removed]",
            "text/plain": [
              "<Figure size 640x480 with 1 Axes>"
            ]
          },
          "metadata": {},
          "output_type": "display_data"
        }
      ],
      "source": [
        "# 4. Visualization of Results\n",
        "# Plot performance metrics\n",
        "plt.figure(figsize=(12, 8))\n",
        "metrics = ['Accuracy', 'Precision', 'Recall', 'F1 Score', 'ROC AUC']\n",
        "results_df.set_index('Model')[metrics].plot(kind='bar', width=0.8)\n",
        "plt.title('Model Comparison: Performance Metrics')\n",
        "plt.ylabel('Score')\n",
        "plt.xticks(rotation=0)\n",
        "plt.legend(bbox_to_anchor=(1.05, 1), loc='upper left')\n",
        "plt.tight_layout()\n",
        "plt.show()"
      ]
    },
    {
      "cell_type": "code",
      "execution_count": null,
      "metadata": {
        "colab": {
          "background_save": true,
          "base_uri": "https://localhost:8080/"
        },
        "id": "MSqsHe7wKRsf",
        "outputId": "745077e2-749b-4488-ffd3-8b16adbc0d7d"
      },
      "outputs": [
        {
          "name": "stdout",
          "output_type": "stream",
          "text": [
            "\n",
            "=== Fine-tuning Gradient Boosting ===\n",
            "Best parameters: {'learning_rate': 0.1, 'max_depth': 5, 'min_samples_split': 2, 'n_estimators': 150}\n",
            "Best F1 score: 0.8005\n"
          ]
        }
      ],
      "source": [
        "# 5. Select Best Model (Gradient Boosting) and Fine-tune\n",
        "print(\"\\n=== Fine-tuning Gradient Boosting ===\")\n",
        "param_grid = {\n",
        "    'n_estimators': [50, 100, 150],\n",
        "    'learning_rate': [0.05, 0.1, 0.2],\n",
        "    'max_depth': [3, 4, 5],\n",
        "    'min_samples_split': [2, 5]\n",
        "}\n",
        "\n",
        "gb = GradientBoostingClassifier(random_state=42)\n",
        "grid_search = GridSearchCV(gb, param_grid, cv=5, scoring='f1', n_jobs=-1)\n",
        "grid_search.fit(X_train, y_train)\n",
        "\n",
        "best_gb = grid_search.best_estimator_\n",
        "print(f\"Best parameters: {grid_search.best_params_}\")\n",
        "print(f\"Best F1 score: {grid_search.best_score_:.4f}\")"
      ]
    },
    {
      "cell_type": "code",
      "execution_count": null,
      "metadata": {
        "colab": {
          "base_uri": "https://localhost:8080/"
        },
        "id": "ND-OAdSrKmzy",
        "outputId": "3aede3b5-fd02-4a19-dd7b-7ea7d7359f8c"
      },
      "outputs": [
        {
          "name": "stdout",
          "output_type": "stream",
          "text": [
            "\n",
            "=== Best Model (Gradient Boosting) Test Performance ===\n",
            "Accuracy: 0.7861\n",
            "Precision: 0.7625\n",
            "Recall: 0.8383\n",
            "F1 Score: 0.7986\n",
            "ROC AUC: 0.8710\n"
          ]
        }
      ],
      "source": [
        "# 6. Evaluate Best Model on Test Set\n",
        "y_pred = best_gb.predict(X_test)\n",
        "y_proba = best_gb.predict_proba(X_test)[:, 1]\n",
        "\n",
        "print(\"\\n=== Best Model (Gradient Boosting) Test Performance ===\")\n",
        "print(f\"Accuracy: {accuracy_score(y_test, y_pred):.4f}\")\n",
        "print(f\"Precision: {precision_score(y_test, y_pred):.4f}\")\n",
        "print(f\"Recall: {recall_score(y_test, y_pred):.4f}\")\n",
        "print(f\"F1 Score: {f1_score(y_test, y_pred):.4f}\")\n",
        "print(f\"ROC AUC: {roc_auc_score(y_test, y_proba):.4f}\")"
      ]
    },
    {
      "cell_type": "code",
      "execution_count": null,
      "metadata": {
        "colab": {
          "base_uri": "https://localhost:8080/",
          "height": 564
        },
        "id": "ap1z4V4zq5gS",
        "outputId": "31fd5428-3a47-481a-cabf-ae66aa8896fc"
      },
      "outputs": [
        {
          "data": {
            "image/png": "[encoded data removed]",
            "text/plain": [
              "<Figure size 800x600 with 2 Axes>"
            ]
          },
          "metadata": {},
          "output_type": "display_data"
        }
      ],
      "source": [
        "# Confusion Matrix\n",
        "plt.figure(figsize=(8, 6))\n",
        "cm = confusion_matrix(y_test, y_pred)\n",
        "sns.heatmap(cm, annot=True, fmt='d', cmap='Blues',\n",
        "            xticklabels=['No Treatment', 'Treatment'],\n",
        "            yticklabels=['No Treatment', 'Treatment'])\n",
        "plt.title('Confusion Matrix (Gradient Boosting)')\n",
        "plt.xlabel('Predicted')\n",
        "plt.ylabel('Actual')\n",
        "plt.show()"
      ]
    },
    {
      "cell_type": "code",
      "execution_count": null,
      "metadata": {
        "colab": {
          "base_uri": "https://localhost:8080/",
          "height": 211
        },
        "id": "b9l3QI-Tq8gX",
        "outputId": "19ac1a0f-c879-4e75-9011-2ae68375a837"
      },
      "outputs": [
        {
          "ename": "NameError",
          "evalue": "name 'pd' is not defined",
          "output_type": "error",
          "traceback": [
            "\u001b[0;31m---------------------------------------------------------------------------\u001b[0m",
            "\u001b[0;31mNameError\u001b[0m                                 Traceback (most recent call last)",
            "\u001b[0;32m<ipython-input-1-c9aff9a451e2>\u001b[0m in \u001b[0;36m<cell line: 0>\u001b[0;34m()\u001b[0m\n\u001b[1;32m      1\u001b[0m \u001b[0;31m# Feature Importance\u001b[0m\u001b[0;34m\u001b[0m\u001b[0;34m\u001b[0m\u001b[0m\n\u001b[0;32m----> 2\u001b[0;31m feature_importances = pd.DataFrame({\n\u001b[0m\u001b[1;32m      3\u001b[0m     \u001b[0;34m'Feature'\u001b[0m\u001b[0;34m:\u001b[0m \u001b[0mX\u001b[0m\u001b[0;34m.\u001b[0m\u001b[0mcolumns\u001b[0m\u001b[0;34m,\u001b[0m\u001b[0;34m\u001b[0m\u001b[0;34m\u001b[0m\u001b[0m\n\u001b[1;32m      4\u001b[0m     \u001b[0;34m'Importance'\u001b[0m\u001b[0;34m:\u001b[0m \u001b[0mbest_gb\u001b[0m\u001b[0;34m.\u001b[0m\u001b[0mfeature_importances_\u001b[0m\u001b[0;34m\u001b[0m\u001b[0;34m\u001b[0m\u001b[0m\n\u001b[1;32m      5\u001b[0m }).sort_values('Importance', ascending=False).head(30)\n",
            "\u001b[0;31mNameError\u001b[0m: name 'pd' is not defined"
          ]
        }
      ],
      "source": [
        "# Feature Importance\n",
        "feature_importances = pd.DataFrame({\n",
        "    'Feature': X.columns,\n",
        "    'Importance': best_gb.feature_importances_\n",
        "}).sort_values('Importance', ascending=False)\n",
        "\n",
        "plt.figure(figsize=(12, 8))\n",
        "sns.barplot(x='Importance', y='Feature', data=feature_importances)\n",
        "plt.title('Top 15 Feature Importances')\n",
        "plt.tight_layout()\n",
        "plt.show()"
      ]
    },
    {
      "cell_type": "code",
      "execution_count": null,
      "metadata": {
        "id": "3GJEu2Elq-9t"
      },
      "outputs": [],
      "source": [
        "# 7. Improved Prediction Function for New Individuals\n",
        "def predict_mental_health(model, label_encoders, original_values, feature_names):\n",
        "    \"\"\"Function to predict mental health treatment need for a new individual\"\"\"\n",
        "    print(\"\\n=== Mental Health Treatment Need Assessment ===\")\n",
        "    print(\"Please answer the following questions to assess if treatment might be recommended.\\n\")\n",
        "\n",
        "    # Collect input data with clear questions\n",
        "    inputs = {}\n",
        "\n",
        "    try:\n",
        "        # Demographic Information\n",
        "        print(\"\\n--- Demographic Information ---\")\n",
        "        gender_options = \"\\n\".join([f\"{code}: {value}\" for code, value in original_values['Gender'].items()])\n",
        "        inputs['Gender'] = int(input(f\"What is your gender?\\n{gender_options}\\nEnter code: \"))\n",
        "\n",
        "        country_options = \"\\n\".join([f\"{code}: {value}\" for code, value in original_values['Country'].items()])\n",
        "        inputs['Country'] = int(input(f\"\\nWhich country are you from?\\n{country_options}\\nEnter code: \"))\n",
        "\n",
        "        occupation_options = \"\\n\".join([f\"{code}: {value}\" for code, value in original_values['Occupation'].items()])\n",
        "        inputs['Occupation'] = int(input(f\"\\nWhat is your occupation?\\n{occupation_options}\\nEnter code: \"))\n",
        "\n",
        "        self_employed_options = \"\\n\".join([f\"{code}: {value}\" for code, value in original_values['self_employed'].items()])\n",
        "        inputs['self_employed'] = int(input(f\"\\nAre you self-employed?\\n{self_employed_options}\\nEnter code: \"))\n",
        "\n",
        "        # Mental Health History\n",
        "        print(\"\\n--- Mental Health Background ---\")\n",
        "        family_history_options = \"\\n\".join([f\"{code}: {value}\" for code, value in original_values['family_history'].items()])\n",
        "        inputs['family_history'] = int(input(f\"\\nDo you have a family history of mental health issues?\\n{family_history_options}\\nEnter code: \"))\n",
        "\n",
        "        mental_history_options = \"\\n\".join([f\"{code}: {value}\" for code, value in original_values['Mental_Health_History'].items()])\n",
        "        inputs['Mental_Health_History'] = int(input(f\"\\nHave you had mental health issues in the past?\\n{mental_history_options}\\nEnter code: \"))\n",
        "\n",
        "        # Current Situation\n",
        "        print(\"\\n--- Current Mental State ---\")\n",
        "        days_indoors_options = \"\\n\".join([f\"{code}: {value}\" for code, value in original_values['Days_Indoors'].items()])\n",
        "        inputs['Days_Indoors'] = int(input(f\"\\nHow many days do you typically stay indoors?\\n{days_indoors_options}\\nEnter code: \"))\n",
        "\n",
        "        stress_options = \"\\n\".join([f\"{code}: {value}\" for code, value in original_values['Growing_Stress'].items()])\n",
        "        inputs['Growing_Stress'] = int(input(f\"\\nHave you been experiencing growing stress?\\n{stress_options}\\nEnter code: \"))\n",
        "\n",
        "        habits_options = \"\\n\".join([f\"{code}: {value}\" for code, value in original_values['Changes_Habits'].items()])\n",
        "        inputs['Changes_Habits'] = int(input(f\"\\nHave you noticed changes in your habits?\\n{habits_options}\\nEnter code: \"))\n",
        "\n",
        "        mood_options = \"\\n\".join([f\"{code}: {value}\" for code, value in original_values['Mood_Swings'].items()])\n",
        "        inputs['Mood_Swings'] = int(input(f\"\\nHow would you describe your mood swings?\\n{mood_options}\\nEnter code: \"))\n",
        "\n",
        "        coping_options = \"\\n\".join([f\"{code}: {value}\" for code, value in original_values['Coping_Struggles'].items()])\n",
        "        inputs['Coping_Struggles'] = int(input(f\"\\nDo you struggle with coping mechanisms?\\n{coping_options}\\nEnter code: \"))\n",
        "\n",
        "        work_options = \"\\n\".join([f\"{code}: {value}\" for code, value in original_values['Work_Interest'].items()])\n",
        "        inputs['Work_Interest'] = int(input(f\"\\nHave you lost interest in work?\\n{work_options}\\nEnter code: \"))\n",
        "\n",
        "        social_options = \"\\n\".join([f\"{code}: {value}\" for code, value in original_values['Social_Weakness'].items()])\n",
        "        inputs['Social_Weakness'] = int(input(f\"\\nDo you feel socially weak or isolated?\\n{social_options}\\nEnter code: \"))\n",
        "\n",
        "        interview_options = \"\\n\".join([f\"{code}: {value}\" for code, value in original_values['mental_health_interview'].items()])\n",
        "        inputs['mental_health_interview'] = int(input(f\"\\nWould you be open to discussing mental health in a job interview?\\n{interview_options}\\nEnter code: \"))\n",
        "\n",
        "        care_options = \"\\n\".join([f\"{code}: {value}\" for code, value in original_values['care_options'].items()])\n",
        "        inputs['care_options'] = int(input(f\"\\nDo you know about available mental health care options?\\n{care_options}\\nEnter code: \"))\n",
        "\n",
        "    except ValueError:\n",
        "        print(\"\\nError: Please enter only the numerical codes provided for each question.\")\n",
        "        return None\n",
        "\n",
        "    # Create DataFrame with correct column order\n",
        "    input_data = []\n",
        "    for col in feature_names:\n",
        "        if col != 'treatment':  # Skip target variable\n",
        "            input_data.append(inputs[col])\n",
        "\n",
        "    input_df = pd.DataFrame([input_data], columns=[col for col in feature_names if col != 'treatment'])\n",
        "\n",
        "    try:\n",
        "        prediction = model.predict(input_df)[0]\n",
        "        probability = model.predict_proba(input_df)[0][1]\n",
        "    except Exception as e:\n",
        "        print(f\"\\nPrediction error: {str(e)}\")\n",
        "        return None\n",
        "\n",
        "    # Display results\n",
        "    print(\"\\n=== Assessment Results ===\")\n",
        "    print(f\"\\nBased on your responses, our assessment suggests:\")\n",
        "    print(f\"► Treatment recommended: {'YES' if prediction == 1 else 'NO'}\")\n",
        "    print(f\"► Confidence level: {probability:.1%}\")\n",
        "\n",
        "    print(\"\\nKey factors influencing this recommendation:\")\n",
        "    top_factors = feature_importances.head(3)\n",
        "    for i, (_, row) in enumerate(top_factors.iterrows(), 1):\n",
        "        feature = row['Feature']\n",
        "        value = input_df[feature].values[0]\n",
        "        if feature in original_values:\n",
        "            value = original_values[feature].get(value, value)\n",
        "        print(f\"{i}. {feature.replace('_', ' ').title()}: {value}\")\n",
        "\n",
        "    print(\"\\nNote: This is not a professional diagnosis, but rather an assessment\")\n",
        "    print(\"based on machine learning analysis of similar cases.\")\n",
        "\n",
        "    return True"
      ]
    },
    {
      "cell_type": "code",
      "execution_count": null,
      "metadata": {
        "colab": {
          "base_uri": "https://localhost:8080/"
        },
        "id": "vsfHdKl22LUv",
        "outputId": "97b36d1a-8406-4f52-df05-cf2a6629a9bf"
      },
      "outputs": [
        {
          "name": "stdout",
          "output_type": "stream",
          "text": [
            "\n",
            "=== Mental Health Assessment Tool ===\n",
            "This tool will ask you a series of questions to assess whether mental health\n",
            "treatment might be beneficial based on patterns learned from similar cases.\n",
            "\n",
            "\n",
            "=== Mental Health Treatment Need Assessment ===\n",
            "Please answer the following questions to assess if treatment might be recommended.\n",
            "\n",
            "\n",
            "--- Demographic Information ---\n",
            "What is your gender?\n",
            "0: Female\n",
            "1: Male\n",
            "Enter code: 0\n",
            "\n",
            "Which country are you from?\n",
            "0: Australia\n",
            "1: Belgium\n",
            "2: Bosnia and Herzegovina\n",
            "3: Brazil\n",
            "4: Canada\n",
            "5: Colombia\n",
            "6: Costa Rica\n",
            "7: Croatia\n",
            "8: Czech Republic\n",
            "9: Denmark\n",
            "10: Finland\n",
            "11: France\n",
            "12: Georgia\n",
            "13: Germany\n",
            "14: Greece\n",
            "15: India\n",
            "16: Ireland\n",
            "17: Israel\n",
            "18: Italy\n",
            "19: Mexico\n",
            "20: Moldova\n",
            "21: Netherlands\n",
            "22: New Zealand\n",
            "23: Nigeria\n",
            "24: Philippines\n",
            "25: Poland\n",
            "26: Portugal\n",
            "27: Russia\n",
            "28: Singapore\n",
            "29: South Africa\n",
            "30: Sweden\n",
            "31: Switzerland\n",
            "32: Thailand\n",
            "33: United Kingdom\n",
            "34: United States\n",
            "Enter code: 15\n",
            "\n",
            "What is your occupation?\n",
            "0: Business\n",
            "1: Corporate\n",
            "2: Housewife\n",
            "3: Others\n",
            "4: Student\n",
            "Enter code: 4\n",
            "\n",
            "Are you self-employed?\n",
            "0: No\n",
            "1: Yes\n",
            "2: nan\n",
            "Enter code: 0\n",
            "\n",
            "--- Mental Health Background ---\n",
            "\n",
            "Do you have a family history of mental health issues?\n",
            "0: No\n",
            "1: Yes\n",
            "Enter code: 1\n",
            "\n",
            "Have you had mental health issues in the past?\n",
            "0: Maybe\n",
            "1: No\n",
            "2: Yes\n",
            "Enter code: 1\n",
            "\n",
            "--- Current Mental State ---\n",
            "\n",
            "How many days do you typically stay indoors?\n",
            "0: 1-14 days\n",
            "1: 15-30 days\n",
            "2: 31-60 days\n",
            "3: Go out Every day\n",
            "4: More than 2 months\n",
            "Enter code: 3\n",
            "\n",
            "Have you been experiencing growing stress?\n",
            "0: Maybe\n",
            "1: No\n",
            "2: Yes\n",
            "Enter code: 2\n",
            "\n",
            "Have you noticed changes in your habits?\n",
            "0: Maybe\n",
            "1: No\n",
            "2: Yes\n",
            "Enter code: 2\n",
            "\n",
            "How would you describe your mood swings?\n",
            "0: High\n",
            "1: Low\n",
            "2: Medium\n",
            "Enter code: 0\n",
            "\n",
            "Do you struggle with coping mechanisms?\n",
            "0: No\n",
            "1: Yes\n",
            "Enter code: 0\n",
            "\n",
            "Have you lost interest in work?\n",
            "0: Maybe\n",
            "1: No\n",
            "2: Yes\n",
            "Enter code: 1\n",
            "\n",
            "Do you feel socially weak or isolated?\n",
            "0: Maybe\n",
            "1: No\n",
            "2: Yes\n",
            "Enter code: 0\n",
            "\n",
            "Would you be open to discussing mental health in a job interview?\n",
            "0: Maybe\n",
            "1: No\n",
            "2: Yes\n",
            "Enter code: 2\n",
            "\n",
            "Do you know about available mental health care options?\n",
            "0: No\n",
            "1: Not sure\n",
            "2: Yes\n",
            "Enter code: 2\n",
            "\n",
            "=== Assessment Results ===\n",
            "\n",
            "Based on your responses, our assessment suggests:\n",
            "► Treatment recommended: NO\n",
            "► Confidence level: 36.1%\n",
            "\n",
            "Key factors influencing this recommendation:\n",
            "1. Family History: Yes\n",
            "2. Country: India\n",
            "3. Care Options: Yes\n",
            "\n",
            "Note: This is not a professional diagnosis, but rather an assessment\n",
            "based on machine learning analysis of similar cases.\n",
            "\n",
            "Would you like to assess another person? (y/n): n\n",
            "\n",
            "Thank you for using the Mental Health Assessment Tool.\n",
            "\n",
            "=== Process Complete ===\n"
          ]
        }
      ],
      "source": [
        "# 9. Run Interactive Prediction\n",
        "print(\"\\n=== Mental Health Assessment Tool ===\")\n",
        "print(\"This tool will ask you a series of questions to assess whether mental health\")\n",
        "print(\"treatment might be beneficial based on patterns learned from similar cases.\\n\")\n",
        "\n",
        "# Get feature names in correct order (excluding target)\n",
        "feature_names = X.columns.tolist()\n",
        "\n",
        "while True:\n",
        "    # Run the assessment\n",
        "    result = predict_mental_health(best_gb, label_encoders, original_values, feature_names)\n",
        "\n",
        "    # Only ask to continue if assessment completed successfully\n",
        "    if result is not None:\n",
        "        while True:\n",
        "            another = input(\"\\nWould you like to assess another person? (y/n): \").strip().lower()\n",
        "            if another in ['y', 'n']:\n",
        "                break\n",
        "            print(\"Please enter 'y' for yes or 'n' for no.\")\n",
        "\n",
        "        if another == 'n':\n",
        "            print(\"\\nThank you for using the Mental Health Assessment Tool.\")\n",
        "            break\n",
        "    else:\n",
        "        # If there was an error, ask if they want to try again\n",
        "        while True:\n",
        "            retry = input(\"\\nWould you like to try the assessment again? (y/n): \").strip().lower()\n",
        "            if retry in ['y', 'n']:\n",
        "                break\n",
        "            print(\"Please enter 'y' for yes or 'n' for no.\")\n",
        "\n",
        "        if retry == 'n':\n",
        "            print(\"\\nThank you for using the Mental Health Assessment Tool.\")\n",
        "            break\n",
        "\n",
        "print(\"\\n=== Process Complete ===\")"
      ]
    },
    {
      "cell_type": "code",
      "execution_count": null,
      "metadata": {
        "colab": {
          "base_uri": "https://localhost:8080/"
        },
        "id": "4WF-EqfvEElb",
        "outputId": "fdcc5763-99b1-4a37-d770-629512b12091"
      },
      "outputs": [
        {
          "name": "stdout",
          "output_type": "stream",
          "text": [
            "\n",
            "=== Example Prediction ===\n",
            "\n",
            "Example Input:\n",
            "Gender: Male\n",
            "Country: Sweden\n",
            "Occupation: Corporate\n",
            "Self Employed: No\n",
            "Family History: Yes\n",
            "Days Indoors: 15-30 days\n",
            "Growing Stress: No\n",
            "Changes Habits: Maybe\n",
            "Mental Health History: No\n",
            "Mood Swings: Low\n",
            "Coping Struggles: No\n",
            "Work Interest: Maybe\n",
            "Social Weakness: No\n",
            "Mental Health Interview: Maybe\n",
            "Care Options: Yes\n",
            "\n",
            "=== Prediction Result ===\n",
            "Recommended Treatment: YES\n",
            "Probability of needing treatment: 91.8%\n"
          ]
        }
      ],
      "source": [
        "# 8. Example Prediction (unchanged)\n",
        "print(\"\\n=== Example Prediction ===\")\n",
        "example_data = {\n",
        "    'Gender': 1,  # 1: Female, 0: Male\n",
        "    'Country': 30,  # 30: United States (example)\n",
        "    'Occupation': 1,  # 1: Corporate\n",
        "    'self_employed': 0,  # 0: No\n",
        "    'family_history': 1,  # 1: Yes\n",
        "    'Days_Indoors': 1,  # 1: 1-14 days\n",
        "    'Growing_Stress': 1,  # 1: Yes\n",
        "    'Changes_Habits': 0,  # 0: No\n",
        "    'Mental_Health_History': 1,  # 1: Yes\n",
        "    'Mood_Swings': 1,  # 1: Medium\n",
        "    'Coping_Struggles': 0,  # 0: No\n",
        "    'Work_Interest': 0,  # 0: No\n",
        "    'Social_Weakness': 1,  # 1: Yes\n",
        "    'mental_health_interview': 0,  # 0: No\n",
        "    'care_options': 2  # 2: Yes\n",
        "}\n",
        "\n",
        "input_df = pd.DataFrame([example_data])\n",
        "prediction = best_gb.predict(input_df)[0]\n",
        "probability = best_gb.predict_proba(input_df)[0][1]\n",
        "\n",
        "print(\"\\nExample Input:\")\n",
        "for col, val in example_data.items():\n",
        "    if col in original_values:\n",
        "        val_str = original_values[col].get(val, val)\n",
        "    else:\n",
        "        val_str = val\n",
        "    print(f\"{col.replace('_', ' ').title()}: {val_str}\")\n",
        "\n",
        "print(\"\\n=== Prediction Result ===\")\n",
        "print(f\"Recommended Treatment: {'YES' if prediction == 1 else 'NO'}\")\n",
        "print(f\"Probability of needing treatment: {probability:.1%}\")"
      ]
    }
  ],
  "metadata": {
    "colab": {
      "provenance": [],
      "mount_file_id": "183D9-Q_iBpwb__FsaS83AgQweSQflfqV",
      "authorship_tag": "ABX9TyO64irgG1NMMCxNUkhYZZsb",
      "include_colab_link": true
    },
    "kernelspec": {
      "display_name": "Python 3",
      "name": "python3"
    },
    "language_info": {
      "name": "python"
    }
  },
  "nbformat": 4,
  "nbformat_minor": 0
}